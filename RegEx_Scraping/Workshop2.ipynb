{
 "cells": [
  {
   "cell_type": "code",
   "execution_count": 16,
   "metadata": {},
   "outputs": [],
   "source": [
    "from bs4 import BeautifulSoup\n",
    "import requests\n",
    "import re\n",
    "import pandas as pd"
   ]
  },
  {
   "cell_type": "code",
   "execution_count": 3,
   "metadata": {},
   "outputs": [],
   "source": [
    "response = requests.get(\"https://fr.lipsum.com/feed/html\").text"
   ]
  },
  {
   "cell_type": "code",
   "execution_count": 8,
   "metadata": {},
   "outputs": [],
   "source": [
    "soup = BeautifulSoup(response, 'lxml')\n",
    "# print(soup.prettify())"
   ]
  },
  {
   "cell_type": "code",
   "execution_count": 9,
   "metadata": {},
   "outputs": [],
   "source": [
    "table = soup.find(class_=\"boxed\")"
   ]
  },
  {
   "cell_type": "code",
   "execution_count": 14,
   "metadata": {},
   "outputs": [],
   "source": [
    "result = {}\n",
    "for row in table.find_all('div'):\n",
    "    data = row.find_all('p')\n",
    "    for i in range(1, len(data), 2):\n",
    "        try:\n",
    "            result[data[i - 1].text] = int(data[i].text)\n",
    "        except ValueError:\n",
    "            # Handle the case where the string cannot be converted to an integer\n",
    "            result[data[i - 1].text] = None  # or any other appropriate value\n"
   ]
  },
  {
   "cell_type": "code",
   "execution_count": 15,
   "metadata": {},
   "outputs": [
    {
     "data": {
      "text/plain": [
       "{'\\nLorem ipsum dolor sit amet, consectetur adipiscing elit. Pellentesque ultricies mollis elit. Sed ac urna commodo, ultrices orci eget, semper velit. Nam vitae mattis nulla. Nunc convallis placerat hendrerit. Curabitur mattis aliquet eros, ut rutrum mauris semper eu. Aenean iaculis, nibh convallis euismod malesuada, enim arcu varius justo, quis lacinia mauris ante ac leo. Suspendisse egestas sapien quis cursus suscipit. Praesent ut ullamcorper ipsum, sit amet interdum augue. Sed interdum justo nec dolor maximus, eget auctor neque porta. Phasellus quis arcu in lacus lacinia luctus non non erat. Suspendisse congue, justo ac semper iaculis, sapien lectus elementum urna, vel feugiat turpis metus ut neque.\\n': None,\n",
       " '\\nAenean ac tincidunt sapien. Morbi quis tristique purus, rhoncus pretium tortor. Suspendisse semper vel mauris sit amet bibendum. Morbi at magna eu nisl aliquam pulvinar nec non purus. Aliquam fermentum sodales quam, quis faucibus lacus molestie sit amet. In mollis diam quis ligula imperdiet tincidunt. Quisque ac arcu eu sem dapibus viverra vel eget lacus.\\n': None}"
      ]
     },
     "execution_count": 15,
     "metadata": {},
     "output_type": "execute_result"
    }
   ],
   "source": [
    "result"
   ]
  },
  {
   "cell_type": "code",
   "execution_count": 18,
   "metadata": {},
   "outputs": [],
   "source": [
    "df = pd.DataFrame({'data': result})"
   ]
  },
  {
   "cell_type": "code",
   "execution_count": 20,
   "metadata": {},
   "outputs": [],
   "source": [
    "table = str(soup.find('div'))"
   ]
  },
  {
   "cell_type": "code",
   "execution_count": 22,
   "metadata": {},
   "outputs": [
    {
     "data": {
      "text/plain": [
       "['9',\n",
       " '0',\n",
       " '3',\n",
       " '3',\n",
       " '6',\n",
       " '2',\n",
       " '8',\n",
       " '0',\n",
       " '9',\n",
       " '7',\n",
       " '0',\n",
       " '2',\n",
       " '5',\n",
       " '0',\n",
       " '1',\n",
       " '1',\n",
       " '4',\n",
       " '4',\n",
       " '5',\n",
       " '5',\n",
       " '3',\n",
       " '0',\n",
       " '0',\n",
       " '6',\n",
       " '0',\n",
       " '0',\n",
       " '3',\n",
       " '0',\n",
       " '0',\n",
       " '6',\n",
       " '0',\n",
       " '0',\n",
       " '5',\n",
       " '4',\n",
       " '1',\n",
       " '7',\n",
       " '2',\n",
       " '8',\n",
       " '1',\n",
       " '3',\n",
       " '1',\n",
       " '1',\n",
       " '0',\n",
       " '3',\n",
       " '3',\n",
       " '6',\n",
       " '2',\n",
       " '8',\n",
       " '0',\n",
       " '9',\n",
       " '7',\n",
       " '0',\n",
       " '2',\n",
       " '5',\n",
       " '0']"
      ]
     },
     "execution_count": 22,
     "metadata": {},
     "output_type": "execute_result"
    }
   ],
   "source": [
    "re.findall(\"[0-9]\", table)"
   ]
  }
 ],
 "metadata": {
  "kernelspec": {
   "display_name": "scraping",
   "language": "python",
   "name": "python3"
  },
  "language_info": {
   "codemirror_mode": {
    "name": "ipython",
    "version": 3
   },
   "file_extension": ".py",
   "mimetype": "text/x-python",
   "name": "python",
   "nbconvert_exporter": "python",
   "pygments_lexer": "ipython3",
   "version": "3.11.7"
  }
 },
 "nbformat": 4,
 "nbformat_minor": 2
}
